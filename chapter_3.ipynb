{
 "cells": [
  {
   "cell_type": "markdown",
   "metadata": {},
   "source": [
    "# When Objects Are Alike\n",
    "\n",
    "## Ways to Inherit\n",
    "\n",
    "Python, technically, treats every class using inheritance.\n",
    "\n",
    "But, simple example of applying inheritance is by **adding functionality in existing classs**. For example, we create a contact manager class that track name and email of several people using below script"
   ]
  },
  {
   "cell_type": "code",
   "execution_count": 1,
   "metadata": {},
   "outputs": [],
   "source": [
    "class Contact:\n",
    "    all_contacts = []    # all_contact list is shared by all instances of this class\n",
    "    \n",
    "    def __init__(self, name, email):\n",
    "        self.name = name\n",
    "        self.email = email\n",
    "        Contact.all_contacts.append(self)"
   ]
  },
  {
   "cell_type": "markdown",
   "metadata": {},
   "source": [
    "Above `Contact` class definition has one `all_contacts` attribute for all instances of the class. We can access that attribute using `self.all_contacts` or `Contact.all_contacts`. But, we need to be careful if we set variable using `self.all_contacts`, then `all_contracts` attribute can only be accessed using the latter option, and will give a new and different definition if we access `all_contacts` on the underlying instances using `self`"
   ]
  },
  {
   "cell_type": "code",
   "execution_count": 2,
   "metadata": {},
   "outputs": [
    {
     "name": "stdout",
     "output_type": "stream",
     "text": [
      "Dani dani@itb.ac.id\n",
      "Zehri zehri@ugm.ac.id\n",
      "Dani Zehri\n"
     ]
    }
   ],
   "source": [
    "school = Contact('Dani', 'dani@itb.ac.id')\n",
    "home = Contact('Zehri', 'zehri@ugm.ac.id')\n",
    "\n",
    "print(school.name, school.email)\n",
    "print(home.name, home.email)\n",
    "print(school.all_contacts[0].name, school.all_contacts[1].name)"
   ]
  },
  {
   "cell_type": "markdown",
   "metadata": {},
   "source": [
    "In case one of the contact are a supplier, and we want to add `order` method in it. Instead adding new method in `Contact` class that will give access for all instances to `order` method although it's not a supplier, we can create a `subclass`, `Supplier` that inherit from `Contact` and have `order` method."
   ]
  },
  {
   "cell_type": "code",
   "execution_count": 3,
   "metadata": {},
   "outputs": [],
   "source": [
    "class Supplier(Contact):\n",
    "    def order(self, order):\n",
    "        print(\"If it's a real system, we would send\",\n",
    "              \"'{}' order to '{}'\".format(order, self.name))"
   ]
  },
  {
   "cell_type": "code",
   "execution_count": 4,
   "metadata": {},
   "outputs": [],
   "source": [
    "contact = Contact('some body', 'somebody@example.mail')\n",
    "supplier = Supplier('supplier', 'suppolier@example.mail')"
   ]
  },
  {
   "cell_type": "code",
   "execution_count": 5,
   "metadata": {},
   "outputs": [
    {
     "name": "stdout",
     "output_type": "stream",
     "text": [
      "some body somebody@example.mail supplier suppolier@example.mail\n",
      "If it's a real system, we would send 'I need guitar' order to 'supplier'\n",
      "None\n"
     ]
    }
   ],
   "source": [
    "print(contact.name, contact.email, supplier.name, supplier.email)\n",
    "print(supplier.order('I need guitar'))"
   ]
  },
  {
   "cell_type": "code",
   "execution_count": 6,
   "metadata": {},
   "outputs": [
    {
     "ename": "AttributeError",
     "evalue": "'Contact' object has no attribute 'order'",
     "output_type": "error",
     "traceback": [
      "\u001b[0;31m---------------------------------------------------------------------------\u001b[0m",
      "\u001b[0;31mAttributeError\u001b[0m                            Traceback (most recent call last)",
      "\u001b[0;32m<ipython-input-6-60b33bc40606>\u001b[0m in \u001b[0;36m<module>\u001b[0;34m()\u001b[0m\n\u001b[0;32m----> 1\u001b[0;31m \u001b[0mcontact\u001b[0m\u001b[0;34m.\u001b[0m\u001b[0morder\u001b[0m\u001b[0;34m\u001b[0m\u001b[0m\n\u001b[0m",
      "\u001b[0;31mAttributeError\u001b[0m: 'Contact' object has no attribute 'order'"
     ]
    }
   ],
   "source": [
    "contact.order"
   ]
  },
  {
   "cell_type": "code",
   "execution_count": 7,
   "metadata": {},
   "outputs": [
    {
     "name": "stdout",
     "output_type": "stream",
     "text": [
      "If it's a real system, we would send 'drum' order to 'supplier'\n"
     ]
    }
   ],
   "source": [
    "supplier.order('drum')"
   ]
  },
  {
   "cell_type": "markdown",
   "metadata": {},
   "source": [
    "What if we also wanted to search that list by name?"
   ]
  },
  {
   "cell_type": "code",
   "execution_count": 8,
   "metadata": {},
   "outputs": [],
   "source": [
    "class ContactList(list):\n",
    "    def search(self, name):\n",
    "        \"\"\"Return all contacts that contain the search value\n",
    "        in their name.\"\"\"\n",
    "        matching_contacts = []\n",
    "        for contact in self:\n",
    "            if name in contact.name:\n",
    "                matching_contacts.append(contact)\n",
    "        \n",
    "        return matching_contacts\n",
    "\n",
    "class Contact:\n",
    "    all_contacts = ContactList()\n",
    "    \n",
    "    def __init__(self, name, email):\n",
    "        self.name = name\n",
    "        self.email = email\n",
    "        Contact.all_contacts.append(self)"
   ]
  },
  {
   "cell_type": "code",
   "execution_count": 9,
   "metadata": {},
   "outputs": [],
   "source": [
    "c1 = Contact(\"John A\", \"johna@example.net\")\n",
    "c2 = Contact(\"John B\", \"johnb@example.net\")\n",
    "c3 = Contact(\"Jenna C\", \"jennac@example.net\")"
   ]
  },
  {
   "cell_type": "code",
   "execution_count": 10,
   "metadata": {},
   "outputs": [
    {
     "name": "stdout",
     "output_type": "stream",
     "text": [
      "John A\n",
      "John B\n"
     ]
    }
   ],
   "source": [
    "# searching with name 'John' in contacts\n",
    "search_name = 'John'\n",
    "for c in Contact.all_contacts.search(search_name):\n",
    "    print(c.name)"
   ]
  },
  {
   "cell_type": "markdown",
   "metadata": {},
   "source": [
    "## Overriding and Super\n",
    "\n",
    "**Overriding** means altering or replacing a method of the superclass with new one (with the same name) in the new subclass.\n",
    "\n",
    "We can directly create a subclass that inherit from the superclass where the method exist, then we can alter the content of the method with the same method name. For example:\n",
    "\n",
    "```python\n",
    "class Friend(Contact):\n",
    "    def __init__(self, name, email, phone):\n",
    "        self.name = name\n",
    "        self.email = email\n",
    "        self.phone = phone\n",
    "```\n",
    "\n",
    "But, the problem from using above script is we have duplicate code to set up `name` and `email`. This will confuse other developers if they want to maintain the code since they update the code in two or more places. What we really need is a way to execute the original `__init__` method on the Contact class. This is where `super` function does."
   ]
  },
  {
   "cell_type": "code",
   "execution_count": 11,
   "metadata": {},
   "outputs": [],
   "source": [
    "# example 1\n",
    "class Friend(Contact):\n",
    "    def __init__(self, name, email, phone):\n",
    "        super().__init__(name, email)\n",
    "        self.phone = phone\n",
    "\n",
    "# example 2 - will throw error in __init__()\n",
    "# class Friend(Contact):\n",
    "#     def __init__(self, name, email, phone):\n",
    "#         super().__init__()\n",
    "#         self.phone = phone\n",
    "\n",
    "# example 3 - will throw error in __init()\n",
    "# class Friend(Contact):\n",
    "#     def __init__(self, name, email, phone):\n",
    "#         super().__init__(name)\n",
    "#         self.phone = phone"
   ]
  },
  {
   "cell_type": "code",
   "execution_count": 12,
   "metadata": {},
   "outputs": [
    {
     "name": "stdout",
     "output_type": "stream",
     "text": [
      "adam adam@eg.mail 08081\n",
      "Agas agas@eg.mail 08082\n"
     ]
    }
   ],
   "source": [
    "f1 = Friend('adam', 'adam@eg.mail', '08081')\n",
    "f2 = Friend('Agas', 'agas@eg.mail', '08082')\n",
    "\n",
    "print(f1.name, f1.email, f1.phone)\n",
    "print(f2.name, f2.email, f2.phone)"
   ]
  },
  {
   "cell_type": "markdown",
   "metadata": {},
   "source": [
    "## Multiple Inheritance\n",
    "\n",
    "Multiple inheritance is simply make a subclass that inherit from more than one superclass. The problem is the difficulties when it comes to debugging or maintenance. \n",
    "\n",
    "1. The root class or base class can be called more than once according to class hierarchical (diamong problem)\n",
    "2. We can end up with different set of arguments when inheriting from multiple superclass.\n",
    "    i. Use `**kwargs` for passing the arguments\n",
    "3. Mostly, multiple inheritance is not that useful and many developers recommend against using it"
   ]
  },
  {
   "cell_type": "markdown",
   "metadata": {},
   "source": [
    "## Polymorphism\n",
    "\n",
    "Polymorphism is is a fancy name describing a simple concept: different behaviors happen depending on which subclass is being used, without having to explicitly know what the subclass actually is. As an example, imagine a program that plays audio files. A media player might need to load an `AudioFile` object and then `play` it. However, different algorithm may apply differently based on the file format.\n",
    "\n",
    "One solution we can create a subclass that inferit from superclass `AudioFile` according to the file format with different decompressing process."
   ]
  },
  {
   "cell_type": "code",
   "execution_count": 13,
   "metadata": {},
   "outputs": [],
   "source": [
    "class AudioFile:\n",
    "    def __init__(self, filename):\n",
    "        if not filename.endswith(self.ext):\n",
    "            raise Exception(\"Invalid file format\")\n",
    "\n",
    "        self.filename = filename\n",
    "\n",
    "class MP3File(AudioFile):\n",
    "    ext = \"mp3\"\n",
    "    def play(self):\n",
    "        print(\"playing {} as mp3\".format(self.filename))\n",
    "\n",
    "class WavFile(AudioFile):\n",
    "    ext = \"wav\"\n",
    "    def play(self):\n",
    "        print(\"playing {} as wav\".format(self.filename))\n",
    "\n",
    "class OggFile(AudioFile):\n",
    "    ext = \"ogg\"\n",
    "    def play(self):\n",
    "        print(\"playing {} as ogg\".format(self.filename))"
   ]
  },
  {
   "cell_type": "markdown",
   "metadata": {},
   "source": [
    "Here, you can see that the parent class is able to access `ext` class variable from each of the subclass because the work of **polymorphism**. In addition, each subclass of `AudioFile` implements `play()` in a different way also because of **polymorphism** is in action.\n",
    "\n",
    "Unfortunatel, Python makes polymorphism less cool because of **duck typing**. Duck typing in Python allows us to use `any` object that provides the required behavior without forcing it to be a subclass.\n",
    "\n",
    "> In duck typing, an object's suitability is determined by the presence of certain methods and properties, rather than the type of the object itself."
   ]
  },
  {
   "cell_type": "code",
   "execution_count": 14,
   "metadata": {},
   "outputs": [],
   "source": [
    "#TODO: Abstract Base Class"
   ]
  }
 ],
 "metadata": {
  "kernelspec": {
   "display_name": "Python 3",
   "language": "python",
   "name": "python3"
  },
  "language_info": {
   "codemirror_mode": {
    "name": "ipython",
    "version": 3
   },
   "file_extension": ".py",
   "mimetype": "text/x-python",
   "name": "python",
   "nbconvert_exporter": "python",
   "pygments_lexer": "ipython3",
   "version": "3.6.5"
  }
 },
 "nbformat": 4,
 "nbformat_minor": 2
}
